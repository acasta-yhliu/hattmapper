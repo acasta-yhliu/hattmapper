{
 "cells": [
  {
   "cell_type": "code",
   "execution_count": 1,
   "metadata": {},
   "outputs": [],
   "source": [
    "import warnings\n",
    "warnings.filterwarnings(\"ignore\", category=DeprecationWarning)\n",
    "warnings.filterwarnings(\"ignore\", category=UserWarning)\n",
    "\n",
    "%matplotlib inline"
   ]
  },
  {
   "cell_type": "code",
   "execution_count": 2,
   "metadata": {},
   "outputs": [],
   "source": [
    "from qiskit_braket_provider import to_braket, BraketProvider\n",
    "from qiskit_nature.second_q.operators import FermionicOp\n",
    "from qiskit_nature.second_q.drivers import PySCFDriver\n",
    "from qiskit_nature.units import DistanceUnit\n",
    "from qiskit.quantum_info import Statevector\n",
    "from qiskit_nature.second_q.mappers.fermionic_mapper import FermionicMapper\n",
    "from statistics import mean, variance\n",
    "from utility import Execution\n",
    "\n",
    "from braket.aws import AwsDevice, DirectReservation\n",
    "from braket.devices import Devices\n",
    "from braket.error_mitigation import Debias\n",
    "\n",
    "\n",
    "hamiltonian: FermionicOp = (\n",
    "    PySCFDriver(\n",
    "        atom=\"H 0 0 0; H 0 0 0.735\",\n",
    "        basis=\"sto3g\",\n",
    "        charge=0,\n",
    "        spin=0,\n",
    "        unit=DistanceUnit.ANGSTROM,\n",
    "    )\n",
    "    .run()\n",
    "    .hamiltonian.second_q_op()\n",
    ")\n",
    "\n",
    "# fill in your own reserve arn\n",
    "RESERVE_ARN = \"arn:aws:braket:us-east-1:849837135378:reservation/699fdc53-b71f-43ea-b855-5ab407f3bd5e\"\n",
    "\n",
    "\n",
    "device = AwsDevice(Devices.IonQ.Forte1)\n",
    "reservation = DirectReservation(device, reservation_arn=RESERVE_ARN).start()\n",
    "\n",
    "backend = BraketProvider().get_backend(\"Forte 1\")"
   ]
  },
  {
   "cell_type": "code",
   "execution_count": 3,
   "metadata": {},
   "outputs": [],
   "source": [
    "def process(data: dict[str, int], mapper: FermionicMapper, hamiltonian):\n",
    "    hamiltonian = mapper.map(hamiltonian)\n",
    "\n",
    "    energies = []\n",
    "\n",
    "    for state, n in data.items():\n",
    "        initial_state = Statevector.from_label(state[::-1])\n",
    "        exp_energy = initial_state.expectation_value(hamiltonian)  # type: ignore\n",
    "\n",
    "        for _ in range(n):\n",
    "            energies.append(exp_energy.real)\n",
    "\n",
    "    return (\n",
    "        mean(energies),\n",
    "        variance(energies),\n",
    "    )\n",
    "\n",
    "\n",
    "def run_on_braket(hamiltonian: FermionicOp, mapper: FermionicMapper):\n",
    "    simulation = Execution(hamiltonian, mapper)\n",
    "    simulation.circuit.global_phase = 0\n",
    "    task = backend.run(simulation.circuit, shots=1500, device_parameters={\"errorMitigation\": Debias()})\n",
    "    return task, mapper, hamiltonian  # type: ignore"
   ]
  },
  {
   "cell_type": "code",
   "execution_count": 4,
   "metadata": {},
   "outputs": [],
   "source": [
    "tasks = []"
   ]
  },
  {
   "cell_type": "markdown",
   "metadata": {},
   "source": [
    "# Jordan-Wigner"
   ]
  },
  {
   "cell_type": "code",
   "execution_count": 5,
   "metadata": {},
   "outputs": [
    {
     "name": "stdout",
     "output_type": "stream",
     "text": [
      "Hamiltonian simulation:\n",
      "  Solve ground state:\n",
      "    Ground energy = -1.857275030202377\n",
      "  Construct and transpile Pauli evolution:\n",
      "    Time duration    = 1.0\n",
      "    Basis gates      = cx, u3\n",
      "    Synthesis method = LieTrotter\n",
      "  Circuit summary:\n",
      "    Depth = 89\n",
      "    Gates = 57 U3, 50 CX, 4 MEASURE\n"
     ]
    }
   ],
   "source": [
    "from qiskit_nature.second_q.mappers import JordanWignerMapper\n",
    "\n",
    "tasks.append(run_on_braket(hamiltonian, JordanWignerMapper()))"
   ]
  },
  {
   "cell_type": "code",
   "execution_count": 6,
   "metadata": {},
   "outputs": [
    {
     "data": {
      "text/plain": [
       "[(<qiskit_braket_provider.providers.braket_quantum_task.BraketQuantumTask at 0x7f6ad9acabc0>,\n",
       "  <qiskit_nature.second_q.mappers.jordan_wigner_mapper.JordanWignerMapper at 0x7f6d1c5d6c20>,\n",
       "  FermionicOp({'+_0 +_0 -_0 -_0': 0.33785507740175813, '+_0 +_1 -_1 -_0': 0.3322908651276482, '+_0 +_2 -_2 -_0': 0.33785507740175813, '+_0 +_3 -_3 -_0': 0.3322908651276482, '+_0 +_0 -_1 -_1': 0.09046559989211572, '+_0 +_1 -_0 -_1': 0.09046559989211572, '+_0 +_2 -_3 -_1': 0.09046559989211572, '+_0 +_3 -_2 -_1': 0.09046559989211572, '+_1 +_0 -_1 -_0': 0.09046559989211572, '+_1 +_1 -_0 -_0': 0.09046559989211572, '+_1 +_2 -_3 -_0': 0.09046559989211572, '+_1 +_3 -_2 -_0': 0.09046559989211572, '+_1 +_0 -_0 -_1': 0.3322908651276482, '+_1 +_1 -_1 -_1': 0.34928686136600884, '+_1 +_2 -_2 -_1': 0.3322908651276482, '+_1 +_3 -_3 -_1': 0.34928686136600884, '+_2 +_0 -_0 -_2': 0.33785507740175813, '+_2 +_1 -_1 -_2': 0.3322908651276482, '+_2 +_2 -_2 -_2': 0.33785507740175813, '+_2 +_3 -_3 -_2': 0.3322908651276482, '+_2 +_0 -_1 -_3': 0.09046559989211572, '+_2 +_1 -_0 -_3': 0.09046559989211572, '+_2 +_2 -_3 -_3': 0.09046559989211572, '+_2 +_3 -_2 -_3': 0.09046559989211572, '+_3 +_0 -_1 -_2': 0.09046559989211572, '+_3 +_1 -_0 -_2': 0.09046559989211572, '+_3 +_2 -_3 -_2': 0.09046559989211572, '+_3 +_3 -_2 -_2': 0.09046559989211572, '+_3 +_0 -_0 -_3': 0.3322908651276482, '+_3 +_1 -_1 -_3': 0.34928686136600884, '+_3 +_2 -_2 -_3': 0.3322908651276482, '+_3 +_3 -_3 -_3': 0.34928686136600884, '+_0 -_0': -1.25633907300325, '+_1 -_1': -0.47189600728114184, '+_2 -_2': -1.25633907300325, '+_3 -_3': -0.47189600728114184}, num_spin_orbitals=4, ))]"
      ]
     },
     "execution_count": 6,
     "metadata": {},
     "output_type": "execute_result"
    }
   ],
   "source": [
    "tasks"
   ]
  },
  {
   "cell_type": "markdown",
   "metadata": {},
   "source": [
    "# Bravyi-Kitaev"
   ]
  },
  {
   "cell_type": "code",
   "execution_count": 7,
   "metadata": {},
   "outputs": [
    {
     "name": "stdout",
     "output_type": "stream",
     "text": [
      "Hamiltonian simulation:\n",
      "  Solve ground state:\n",
      "    Ground energy = -1.857275030202382\n",
      "  Construct and transpile Pauli evolution:\n",
      "    Time duration    = 1.0\n",
      "    Basis gates      = cx, u3\n",
      "    Synthesis method = LieTrotter\n",
      "  Circuit summary:\n",
      "    Depth = 88\n",
      "    Gates = 52 CX, 48 U3, 4 MEASURE\n"
     ]
    }
   ],
   "source": [
    "from qiskit_nature.second_q.mappers import BravyiKitaevMapper\n",
    "\n",
    "tasks.append(run_on_braket(hamiltonian, BravyiKitaevMapper()))"
   ]
  },
  {
   "cell_type": "markdown",
   "metadata": {},
   "source": [
    "# Balanced Ternary Tree"
   ]
  },
  {
   "cell_type": "code",
   "execution_count": 8,
   "metadata": {},
   "outputs": [
    {
     "name": "stdout",
     "output_type": "stream",
     "text": [
      "Hamiltonian simulation:\n",
      "  Solve ground state:\n",
      "    Ground energy = -1.8572750302023757\n",
      "  Construct and transpile Pauli evolution:\n",
      "    Time duration    = 1.0\n",
      "    Basis gates      = cx, u3\n",
      "    Synthesis method = LieTrotter\n",
      "  Circuit summary:\n",
      "    Depth = 88\n",
      "    Gates = 55 U3, 50 CX, 4 MEASURE\n"
     ]
    }
   ],
   "source": [
    "from ternary_tree_mapper import TernaryTreeMapper\n",
    "\n",
    "tasks.append(run_on_braket(hamiltonian, TernaryTreeMapper(pair=True)))"
   ]
  },
  {
   "cell_type": "markdown",
   "metadata": {},
   "source": [
    "# Fermihedral"
   ]
  },
  {
   "cell_type": "code",
   "execution_count": 9,
   "metadata": {},
   "outputs": [
    {
     "name": "stdout",
     "output_type": "stream",
     "text": [
      "Hamiltonian simulation:\n",
      "  Solve ground state:\n",
      "    Ground energy = -1.8572750302023757\n",
      "  Construct and transpile Pauli evolution:\n",
      "    Time duration    = 1.0\n",
      "    Basis gates      = cx, u3\n",
      "    Synthesis method = LieTrotter\n",
      "  Circuit summary:\n",
      "    Depth = 77\n",
      "    Gates = 45 U3, 45 CX, 4 MEASURE\n"
     ]
    }
   ],
   "source": [
    "from utility import FermihedralMapper\n",
    "\n",
    "tasks.append(run_on_braket(hamiltonian, FermihedralMapper.molecule()))"
   ]
  },
  {
   "cell_type": "markdown",
   "metadata": {},
   "source": [
    "# Our Method"
   ]
  },
  {
   "cell_type": "code",
   "execution_count": 10,
   "metadata": {},
   "outputs": [
    {
     "name": "stderr",
     "output_type": "stream",
     "text": [
      "                                                0/6 [00:00<?, ?it/s]]\r"
     ]
    },
    {
     "name": "stdout",
     "output_type": "stream",
     "text": [
      "Hamiltonian simulation:\n",
      "  Solve ground state:\n",
      "    Ground energy = -1.8572750302023784\n",
      "  Construct and transpile Pauli evolution:\n",
      "    Time duration    = 1.0\n",
      "    Basis gates      = cx, u3\n",
      "    Synthesis method = LieTrotter\n",
      "  Circuit summary:\n",
      "    Depth = 78\n",
      "    Gates = 57 U3, 42 CX, 4 MEASURE\n"
     ]
    }
   ],
   "source": [
    "from ternary_bonsai_mapper import HamiltonianTernaryBonsaiMapper\n",
    "\n",
    "tasks.append(run_on_braket(hamiltonian, HamiltonianTernaryBonsaiMapper(hamiltonian)))"
   ]
  },
  {
   "cell_type": "markdown",
   "metadata": {},
   "source": [
    "# Plot"
   ]
  },
  {
   "cell_type": "code",
   "execution_count": 1,
   "metadata": {},
   "outputs": [],
   "source": [
    "from qiskit_nature.second_q.mappers.fermionic_mapper import FermionicMapper\n",
    "from qiskit_nature.second_q.drivers import PySCFDriver\n",
    "from qiskit_nature.units import DistanceUnit\n",
    "from qiskit_nature.second_q.operators import FermionicOp\n",
    "from braket.aws.aws_quantum_task import AwsQuantumTask\n",
    "from qiskit.quantum_info import Statevector\n",
    "from statistics import mean, variance\n",
    "\n",
    "def process(job : AwsQuantumTask, mapper: FermionicMapper, hamiltonian):\n",
    "    data = job._download_result().measurement_counts # type: ignore\n",
    "\n",
    "    hamiltonian = mapper.map(hamiltonian)\n",
    "\n",
    "    energies = []\n",
    "\n",
    "    for state, n in data.items():\n",
    "        initial_state = Statevector.from_label(state[::-1])\n",
    "        exp_energy = initial_state.expectation_value(hamiltonian)  # type: ignore\n",
    "\n",
    "        for _ in range(n):\n",
    "            energies.append(exp_energy.real)\n",
    "\n",
    "    return (\n",
    "        mean(energies),\n",
    "        variance(energies),\n",
    "    )\n",
    "\n",
    "hamiltonian: FermionicOp = (\n",
    "    PySCFDriver(\n",
    "        atom=\"H 0 0 0; H 0 0 0.735\",\n",
    "        basis=\"sto3g\",\n",
    "        charge=0,\n",
    "        spin=0,\n",
    "        unit=DistanceUnit.ANGSTROM,\n",
    "    )\n",
    "    .run()\n",
    "    .hamiltonian.second_q_op()\n",
    ")"
   ]
  },
  {
   "cell_type": "code",
   "execution_count": 2,
   "metadata": {},
   "outputs": [
    {
     "name": "stderr",
     "output_type": "stream",
     "text": [
      "                                                0/6 [00:00<?, ?it/s]]\r"
     ]
    }
   ],
   "source": [
    "from braket.aws.aws_quantum_task import AwsQuantumTask\n",
    "from qiskit_nature.second_q.mappers import JordanWignerMapper, BravyiKitaevMapper\n",
    "from ternary_bonsai_mapper import HamiltonianTernaryBonsaiMapper\n",
    "from ternary_tree_mapper import TernaryTreeMapper\n",
    "from utility import FermihedralMapper\n",
    "\n",
    "jwtask = AwsQuantumTask(\"arn:aws:braket:us-east-1:849837135378:quantum-task/af4dc72c-3546-4ed3-abe9-fda167e9aecb\")\n",
    "bktask = AwsQuantumTask(\"arn:aws:braket:us-east-1:849837135378:quantum-task/bd373783-52a9-4000-8b29-0b2ed08abb33\")\n",
    "btttask = AwsQuantumTask(\"arn:aws:braket:us-east-1:849837135378:quantum-task/577a7833-ac65-4145-b2d2-a2a0b1f873eb\")\n",
    "fhtask = AwsQuantumTask(\"arn:aws:braket:us-east-1:849837135378:quantum-task/f4b13f36-5583-472f-a19e-e2c922db6eb7\")\n",
    "hatttask = AwsQuantumTask(\"arn:aws:braket:us-east-1:849837135378:quantum-task/efe8ff7b-1f4e-45ed-a126-dfce20d0407d\")\n",
    "\n",
    "tasks = [(jwtask, JordanWignerMapper()), (bktask, BravyiKitaevMapper()), (btttask, TernaryTreeMapper(pair=True)), (fhtask, FermihedralMapper.molecule()), (hatttask, HamiltonianTernaryBonsaiMapper(hamiltonian))]"
   ]
  },
  {
   "cell_type": "code",
   "execution_count": 11,
   "metadata": {},
   "outputs": [
    {
     "name": "stderr",
     "output_type": "stream",
     "text": [
      "Task is in terminal state CANCELLED and no result is available.\n",
      "Task is in terminal state CANCELLED and no result is available.\n",
      "Task is in terminal state CANCELLED and no result is available.\n"
     ]
    },
    {
     "data": {
      "image/png": "[encoded data removed]",
      "text/plain": [
       "<Figure size 1400x400 with 1 Axes>"
      ]
     },
     "metadata": {},
     "output_type": "display_data"
    }
   ],
   "source": [
    "import matplotlib.pyplot as plt\n",
    "\n",
    "plt.rc(\"font\", size=34, family=\"serif\", serif=\"cmr10\")\n",
    "plt.rcParams['axes.formatter.use_mathtext'] = True\n",
    "plt.rcParams['mathtext.fontset'] = 'cm'\n",
    "\n",
    "THEO = -1.857275030202381\n",
    "\n",
    "\n",
    "plt.figure(figsize=(14, 4), layout=\"constrained\")\n",
    "for n, (mapper, (t, m)) in enumerate(zip((\"JW\", \"BK\", \"BTT\", \"FH\", \"HATT\"), tasks)):\n",
    "    exp, var = process(t, m, hamiltonian)\n",
    "    plt.plot([n - 0.3, n + 0.3], [exp, exp], color=\"C3\", linewidth=5)\n",
    "    plt.text(n - 0.46, exp + 0.03, f\"{exp:.3f}\", color=\"C3\", fontsize=32)\n",
    "    plt.errorbar(n, exp, var, color=\"black\", linewidth=3)\n",
    "    plt.text(n + 0.05, exp - var, f\"{var:.3f}\", fontsize=32)\n",
    "\n",
    "plt.xlim(0 - 0.5, 4 + 0.5)\n",
    "plt.ylim(THEO - 0.3, -0.9)\n",
    "plt.yticks([-2.0, -1.6, -1.2])\n",
    "plt.ylabel(\"Energy\")\n",
    "plt.xticks([0, 1, 2, 3, 4], [\"JW\", \"BK\", \"BTT\", \"FH\", \"HATT\"], fontfamily=\"sans serif\")\n",
    "\n",
    "plt.plot([-1, 5], [THEO, THEO], linewidth=3)\n",
    "plt.annotate(f\"THEORETICAL={THEO:.3f}\", (1.8, THEO - 0.01), (2, THEO - 0.28), arrowprops=dict(facecolor='C0', edgecolor=\"C0\", shrink=0.05, width=2), fontfamily=\"monospace\", color=\"C0\")\n",
    "\n",
    "plt.savefig(\"tests/realsystem.pdf\")"
   ]
  },
  {
   "cell_type": "code",
   "execution_count": null,
   "metadata": {},
   "outputs": [],
   "source": []
  }
 ],
 "metadata": {
  "kernelspec": {
   "display_name": "venv",
   "language": "python",
   "name": "python3"
  },
  "language_info": {
   "codemirror_mode": {
    "name": "ipython",
    "version": 3
   },
   "file_extension": ".py",
   "mimetype": "text/x-python",
   "name": "python",
   "nbconvert_exporter": "python",
   "pygments_lexer": "ipython3",
   "version": "3.10.12"
  }
 },
 "nbformat": 4,
 "nbformat_minor": 2
}
