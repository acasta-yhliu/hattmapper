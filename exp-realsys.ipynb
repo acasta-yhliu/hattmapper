{
 "cells": [
  {
   "cell_type": "code",
   "execution_count": 1,
   "metadata": {},
   "outputs": [],
   "source": [
    "import warnings\n",
    "warnings.filterwarnings(\"ignore\", category=DeprecationWarning)\n",
    "warnings.filterwarnings(\"ignore\", category=UserWarning)\n",
    "\n",
    "from qiskit_braket_provider import BraketProvider\n",
    "from qiskit.providers import Backend\n",
    "\n",
    "provider = BraketProvider()\n",
    "aria_2 : Backend = provider.get_backend(\"Aria 2\")\n",
    "\n",
    "from qiskit_nature.second_q.operators import FermionicOp\n",
    "from qiskit_nature.second_q.drivers import PySCFDriver\n",
    "from qiskit_nature.units import DistanceUnit\n",
    "\n",
    "hamiltonian: FermionicOp = (\n",
    "    PySCFDriver(\n",
    "        atom=\"H 0 0 0; H 0 0 0.735\",\n",
    "        basis=\"sto3g\",\n",
    "        charge=0,\n",
    "        spin=0,\n",
    "        unit=DistanceUnit.ANGSTROM,\n",
    "    )\n",
    "    .run()\n",
    "    .hamiltonian.second_q_op()\n",
    ")"
   ]
  },
  {
   "cell_type": "code",
   "execution_count": 3,
   "metadata": {},
   "outputs": [
    {
     "name": "stdout",
     "output_type": "stream",
     "text": [
      "Hamiltonian simulation:\n",
      "  Solve ground state:\n",
      "Statevector([-2.32088474e-17-1.32768052e-17j,\n",
      "             -1.29593802e-16+2.54992228e-17j,\n",
      "              1.09129429e-19+7.39911913e-18j,\n",
      "              2.50876051e-16-8.50052294e-17j,\n",
      "              6.31998588e-17+1.76362353e-16j,\n",
      "             -7.06503802e-01-6.98864874e-01j,\n",
      "             -8.62676944e-17-3.36979993e-17j,\n",
      "              6.60724127e-18+2.58509894e-17j,\n",
      "              1.09888642e-17+8.45645702e-18j,\n",
      "             -8.88352769e-17-1.64176064e-16j,\n",
      "              7.92953359e-02+7.84379713e-02j,\n",
      "             -1.15845698e-17-2.30657371e-17j,\n",
      "              1.33221826e-16-4.94907237e-17j,\n",
      "             -7.40020536e-18-8.88351305e-18j,\n",
      "             -8.23486807e-19-1.63446144e-17j,\n",
      "              1.32576421e-16+1.16797329e-16j],\n",
      "            dims=(2, 2, 2, 2))\n",
      "    Ground energy = -1.8572750302023833\n",
      "  Construct and transpile Pauli evolution:\n",
      "    Time duration    = 1.0\n",
      "    Basis gates      = cx, u3\n",
      "    Synthesis method = LieTrotter\n",
      "  Circuit summary:\n",
      "    Depth = 91\n",
      "    Gates = 58 U3, 52 CX\n"
     ]
    }
   ],
   "source": [
    "from qiskit import transpile\n",
    "from qiskit_nature.second_q.mappers import JordanWignerMapper, BravyiKitaevMapper\n",
    "from utility import Execution\n",
    "\n",
    "jwsim = Execution(hamiltonian, JordanWignerMapper())"
   ]
  },
  {
   "cell_type": "code",
   "execution_count": 3,
   "metadata": {},
   "outputs": [],
   "source": [
    "bk_job = aria_2.run(bksim.circuit, shots=3000)"
   ]
  },
  {
   "cell_type": "code",
   "execution_count": 8,
   "metadata": {},
   "outputs": [
    {
     "data": {
      "text/plain": [
       "{'0000': 245,\n",
       " '0001': 143,\n",
       " '0010': 798,\n",
       " '0011': 232,\n",
       " '0100': 266,\n",
       " '0101': 120,\n",
       " '0110': 155,\n",
       " '0111': 457,\n",
       " '1000': 121,\n",
       " '1001': 52,\n",
       " '1010': 109,\n",
       " '1011': 87,\n",
       " '1100': 44,\n",
       " '1101': 45,\n",
       " '1110': 59,\n",
       " '1111': 67}"
      ]
     },
     "execution_count": 8,
     "metadata": {},
     "output_type": "execute_result"
    }
   ],
   "source": [
    "bk_job.result().data()[\"counts\"]"
   ]
  },
  {
   "cell_type": "code",
   "execution_count": 15,
   "metadata": {},
   "outputs": [],
   "source": [
    "from qiskit.quantum_info import Statevector\n",
    "from qiskit_nature.second_q.mappers.fermionic_mapper import FermionicMapper\n",
    "from statistics import mean, variance\n",
    "\n",
    "def process(data: dict[str, int], mapper: FermionicMapper, hamiltonian):\n",
    "    hamiltonian = mapper.map(hamiltonian)\n",
    "\n",
    "    energies = []\n",
    "\n",
    "    for state, n in data.items():\n",
    "        initial_state = Statevector.from_label(state[::-1])\n",
    "        exp_energy = initial_state.expectation_value(hamiltonian)  # type: ignore\n",
    "        print(exp_energy, n)\n",
    "\n",
    "        for _ in range(n):\n",
    "            energies.append(exp_energy.real)\n",
    "\n",
    "    return (\n",
    "        mean(energies),\n",
    "        variance(energies),\n",
    "    )"
   ]
  },
  {
   "cell_type": "code",
   "execution_count": 16,
   "metadata": {},
   "outputs": [
    {
     "name": "stdout",
     "output_type": "stream",
     "text": [
      "(1.1102230246251565e-16+0j) 245\n",
      "(-0.4718960072811417+0j) 143\n",
      "(-1.2445845498133268+0j) 798\n",
      "(-1.25633907300325+0j) 232\n",
      "(-0.24521829183026578+0j) 266\n",
      "(-0.4718960072811416+0j) 120\n",
      "(-1.0636533500290954+0j) 155\n",
      "(-0.35332510410715445+0j) 457\n",
      "(-1.2445845498133268+0j) 121\n",
      "(-0.35332510410715456+0j) 52\n",
      "(0.21427823841947297+0j) 109\n",
      "(-1.1606317377577644+0j) 87\n",
      "(-1.0636533500290954+0j) 44\n",
      "(-1.2563390730032498+0j) 45\n",
      "(-1.8369679912029837+0j) 59\n",
      "(-1.1606317377577642+0j) 67\n"
     ]
    },
    {
     "data": {
      "text/plain": [
       "(-0.7787958019321397, 0.2720765019864728)"
      ]
     },
     "execution_count": 16,
     "metadata": {},
     "output_type": "execute_result"
    }
   ],
   "source": [
    "process(bk_job.result().data()[\"counts\"], BravyiKitaevMapper(), hamiltonian)"
   ]
  },
  {
   "cell_type": "code",
   "execution_count": null,
   "metadata": {},
   "outputs": [],
   "source": []
  }
 ],
 "metadata": {
  "kernelspec": {
   "display_name": "venv",
   "language": "python",
   "name": "python3"
  },
  "language_info": {
   "codemirror_mode": {
    "name": "ipython",
    "version": 3
   },
   "file_extension": ".py",
   "mimetype": "text/x-python",
   "name": "python",
   "nbconvert_exporter": "python",
   "pygments_lexer": "ipython3",
   "version": "3.10.12"
  }
 },
 "nbformat": 4,
 "nbformat_minor": 2
}
