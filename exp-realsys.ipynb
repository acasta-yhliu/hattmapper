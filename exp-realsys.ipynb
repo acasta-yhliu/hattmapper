{
 "cells": [
  {
   "cell_type": "code",
   "execution_count": 1,
   "metadata": {},
   "outputs": [],
   "source": [
    "import warnings\n",
    "warnings.filterwarnings(\"ignore\", category=DeprecationWarning)\n",
    "warnings.filterwarnings(\"ignore\", category=UserWarning)\n",
    "\n",
    "from qiskit_braket_provider import BraketProvider\n",
    "from qiskit.providers import Backend\n",
    "\n",
    "provider = BraketProvider()\n",
    "aria_2 : Backend = provider.get_backend(\"Aria 2\")\n",
    "\n",
    "from qiskit_nature.second_q.operators import FermionicOp\n",
    "from qiskit_nature.second_q.drivers import PySCFDriver\n",
    "from qiskit_nature.units import DistanceUnit\n",
    "\n",
    "hamiltonian: FermionicOp = (\n",
    "    PySCFDriver(\n",
    "        atom=\"H 0 0 0; H 0 0 0.735\",\n",
    "        basis=\"sto3g\",\n",
    "        charge=0,\n",
    "        spin=0,\n",
    "        unit=DistanceUnit.ANGSTROM,\n",
    "    )\n",
    "    .run()\n",
    "    .hamiltonian.second_q_op()\n",
    ")\n",
    "\n",
    "from qiskit.quantum_info import Statevector\n",
    "from qiskit_nature.second_q.mappers.fermionic_mapper import FermionicMapper\n",
    "from statistics import mean, variance\n",
    "\n",
    "def process(data: dict[str, int], mapper: FermionicMapper, hamiltonian):\n",
    "    hamiltonian = mapper.map(hamiltonian)\n",
    "\n",
    "    energies = []\n",
    "\n",
    "    for state, n in data.items():\n",
    "        initial_state = Statevector.from_label(state)\n",
    "        exp_energy = initial_state.expectation_value(hamiltonian)  # type: ignore\n",
    "        print(exp_energy, n)\n",
    "\n",
    "        for _ in range(n):\n",
    "            energies.append(exp_energy.real)\n",
    "\n",
    "    return (\n",
    "        mean(energies),\n",
    "        variance(energies),\n",
    "    )"
   ]
  },
  {
   "cell_type": "markdown",
   "metadata": {},
   "source": [
    "# Jordan-Wigner"
   ]
  },
  {
   "cell_type": "code",
   "execution_count": 40,
   "metadata": {},
   "outputs": [
    {
     "name": "stdout",
     "output_type": "stream",
     "text": [
      "Hamiltonian simulation:\n",
      "  Solve ground state:\n",
      "    Ground energy = -1.8572750302023748\n",
      "  Construct and transpile Pauli evolution:\n",
      "    Time duration    = 1.0\n",
      "    Basis gates      = cx, u3\n",
      "    Synthesis method = LieTrotter\n",
      "  Circuit summary:\n",
      "    Depth = 89\n",
      "    Gates = 57 U3, 50 CX, 4 MEASURE\n"
     ]
    }
   ],
   "source": [
    "from qiskit_nature.second_q.mappers import JordanWignerMapper\n",
    "from utility import Execution\n",
    "\n",
    "jwsim = Execution(hamiltonian, JordanWignerMapper())\n",
    "jwjob = aria_2.run(jwsim.circuit, shots=1000)"
   ]
  },
  {
   "cell_type": "code",
   "execution_count": 41,
   "metadata": {},
   "outputs": [
    {
     "name": "stdout",
     "output_type": "stream",
     "text": [
      "(1.1102230246251565e-16+0j) 23\n",
      "(-1.2563390730032498+0j) 27\n",
      "(-0.4718960072811416+0j) 12\n",
      "(-1.2445845498133268+0j) 14\n",
      "(-1.25633907300325+0j) 62\n",
      "(-1.8369679912029837+0j) 448\n",
      "(-1.0636533500290954+0j) 83\n",
      "(-1.1606317377577644+0j) 39\n",
      "(-0.4718960072811417+0j) 29\n",
      "(-1.0636533500290954+0j) 90\n",
      "(-0.24521829183026578+0j) 29\n",
      "(-0.35332510410715456+0j) 39\n",
      "(-1.2445845498133268+0j) 35\n",
      "(-1.1606317377577642+0j) 46\n",
      "(-0.35332510410715445+0j) 13\n",
      "(0.21427823841947297+0j) 11\n"
     ]
    },
    {
     "data": {
      "text/plain": [
       "(-1.3209011193140847, 0.3117595321527502)"
      ]
     },
     "execution_count": 41,
     "metadata": {},
     "output_type": "execute_result"
    }
   ],
   "source": [
    "process(jwjob.result().data()[\"counts\"], JordanWignerMapper(), hamiltonian)"
   ]
  },
  {
   "cell_type": "markdown",
   "metadata": {},
   "source": [
    "# Bravyi-Kitaev"
   ]
  },
  {
   "cell_type": "code",
   "execution_count": 6,
   "metadata": {},
   "outputs": [
    {
     "name": "stdout",
     "output_type": "stream",
     "text": [
      "Hamiltonian simulation:\n",
      "  Solve ground state:\n",
      "    Ground energy = -1.8572750302023782\n",
      "  Construct and transpile Pauli evolution:\n",
      "    Time duration    = 1.0\n",
      "    Basis gates      = cx, u3\n",
      "    Synthesis method = LieTrotter\n",
      "  Circuit summary:\n",
      "    Depth = 88\n",
      "    Gates = 52 CX, 48 U3, 4 MEASURE\n"
     ]
    }
   ],
   "source": [
    "from qiskit_nature.second_q.mappers import BravyiKitaevMapper\n",
    "from utility import Execution\n",
    "\n",
    "bksim = Execution(hamiltonian, BravyiKitaevMapper())\n",
    "bkjob = aria_2.run(bksim.circuit, shots=1000)"
   ]
  },
  {
   "cell_type": "code",
   "execution_count": 20,
   "metadata": {},
   "outputs": [
    {
     "name": "stdout",
     "output_type": "stream",
     "text": [
      "(1.1102230246251565e-16+0j) 23\n",
      "(-1.2445845498133268+0j) 49\n",
      "(-0.24521829183026578+0j) 50\n",
      "(-1.0636533500290954+0j) 85\n",
      "(-1.2445845498133268+0j) 58\n",
      "(0.21427823841947297+0j) 69\n",
      "(-1.0636533500290954+0j) 86\n",
      "(-1.8369679912029837+0j) 457\n",
      "(-0.4718960072811417+0j) 13\n",
      "(-0.35332510410715456+0j) 13\n",
      "(-0.4718960072811416+0j) 8\n",
      "(-1.2563390730032498+0j) 16\n",
      "(-1.25633907300325+0j) 13\n",
      "(-1.1606317377577644+0j) 11\n",
      "(-0.35332510410715445+0j) 17\n",
      "(-1.1606317377577642+0j) 32\n"
     ]
    },
    {
     "data": {
      "text/plain": [
       "(-1.2588759249221313, 0.43528868011844934)"
      ]
     },
     "execution_count": 20,
     "metadata": {},
     "output_type": "execute_result"
    }
   ],
   "source": [
    "process(bkjob.result().data()[\"counts\"], BravyiKitaevMapper(), hamiltonian)"
   ]
  },
  {
   "cell_type": "markdown",
   "metadata": {},
   "source": [
    "# Balanced Ternary Tree"
   ]
  },
  {
   "cell_type": "code",
   "execution_count": 2,
   "metadata": {},
   "outputs": [
    {
     "name": "stdout",
     "output_type": "stream",
     "text": [
      "Hamiltonian simulation:\n",
      "  Solve ground state:\n",
      "    Ground energy = -1.8572750302023788\n",
      "  Construct and transpile Pauli evolution:\n",
      "    Time duration    = 1.0\n",
      "    Basis gates      = cx, u3\n",
      "    Synthesis method = LieTrotter\n",
      "  Circuit summary:\n",
      "    Depth = 81\n",
      "    Gates = 59 U3, 47 CX, 4 MEASURE\n"
     ]
    }
   ],
   "source": [
    "from ternary_tree_mapper import TernaryTreeMapper\n",
    "from utility import Execution\n",
    "\n",
    "bttsim = Execution(hamiltonian, TernaryTreeMapper())\n",
    "bttjob = aria_2.run(bttsim.circuit, shots=1000)"
   ]
  },
  {
   "cell_type": "code",
   "execution_count": 18,
   "metadata": {},
   "outputs": [
    {
     "name": "stdout",
     "output_type": "stream",
     "text": [
      "(-0.6979721075783716+0j) 62\n",
      "(-0.578755988257972+0j) 32\n",
      "(-0.6979721075783716+0j) 34\n",
      "(-0.578755988257972+0j) 21\n",
      "(-1.374630837944331+0j) 137\n",
      "(-0.5908329883686352+0j) 21\n",
      "(-1.374630837944331+0j) 114\n",
      "(-0.5908329883686352+0j) 55\n",
      "(-0.6979721075783716+0j) 37\n",
      "(-0.578755988257972+0j) 14\n",
      "(-0.6979721075783716+0j) 37\n",
      "(-0.578755988257972+0j) 17\n",
      "(-1.374630837944331+0j) 187\n",
      "(-0.5908329883686352+0j) 28\n",
      "(-1.374630837944331+0j) 177\n",
      "(-0.5908329883686352+0j) 27\n"
     ]
    },
    {
     "data": {
      "text/plain": [
       "(-1.0900678481140476, 0.13067740583281157)"
      ]
     },
     "execution_count": 18,
     "metadata": {},
     "output_type": "execute_result"
    }
   ],
   "source": [
    "process(bttjob.result().data()[\"counts\"], TernaryTreeMapper(), hamiltonian)"
   ]
  },
  {
   "cell_type": "markdown",
   "metadata": {},
   "source": [
    "# Fermihedral"
   ]
  },
  {
   "cell_type": "code",
   "execution_count": 23,
   "metadata": {},
   "outputs": [
    {
     "name": "stdout",
     "output_type": "stream",
     "text": [
      "Hamiltonian simulation:\n",
      "  Solve ground state:\n",
      "    Ground energy = -1.8572750302023833\n",
      "  Construct and transpile Pauli evolution:\n",
      "    Time duration    = 1.0\n",
      "    Basis gates      = cx, u3\n",
      "    Synthesis method = LieTrotter\n",
      "  Circuit summary:\n",
      "    Depth = 77\n",
      "    Gates = 45 U3, 45 CX, 4 MEASURE\n"
     ]
    }
   ],
   "source": [
    "from utility import FermihedralMapper\n",
    "from utility import Execution\n",
    "\n",
    "fh = FermihedralMapper.molecule()\n",
    "fhsim = Execution(hamiltonian, fh)\n",
    "fhjob = aria_2.run(fhsim.circuit, shots=1000)"
   ]
  },
  {
   "cell_type": "code",
   "execution_count": 24,
   "metadata": {},
   "outputs": [
    {
     "name": "stdout",
     "output_type": "stream",
     "text": [
      "(1.1102230246251565e-16+0j) 7\n",
      "(-0.4718960072811416+0j) 12\n",
      "(-1.25633907300325+0j) 23\n",
      "(-1.0636533500290954+0j) 30\n",
      "(-1.2445845498133268+0j) 3\n",
      "(-0.35332510410715445+0j) 24\n",
      "(-0.4718960072811417+0j) 11\n",
      "(-0.24521829183026578+0j) 42\n",
      "(-1.2445845498133268+0j) 49\n",
      "(-1.2563390730032498+0j) 59\n",
      "(-1.1606317377577644+0j) 75\n",
      "(-1.8369679912029837+0j) 564\n",
      "(0.21427823841947297+0j) 22\n",
      "(-1.1606317377577642+0j) 14\n",
      "(-0.35332510410715456+0j) 23\n",
      "(-1.0636533500290954+0j) 42\n"
     ]
    },
    {
     "data": {
      "text/plain": [
       "(-1.4167123485497235, 0.3222858718976118)"
      ]
     },
     "execution_count": 24,
     "metadata": {},
     "output_type": "execute_result"
    }
   ],
   "source": [
    "process(fhjob.result().data()[\"counts\"], fh, hamiltonian)"
   ]
  },
  {
   "cell_type": "markdown",
   "metadata": {},
   "source": [
    "# Our Method"
   ]
  },
  {
   "cell_type": "code",
   "execution_count": 38,
   "metadata": {},
   "outputs": [
    {
     "name": "stderr",
     "output_type": "stream",
     "text": [
      "                                                0/6 [00:00<?, ?it/s]]"
     ]
    },
    {
     "name": "stderr",
     "output_type": "stream",
     "text": [
      "\r"
     ]
    },
    {
     "name": "stdout",
     "output_type": "stream",
     "text": [
      "Hamiltonian simulation:\n",
      "  Solve ground state:\n",
      "    Ground energy = -1.857275030202381\n",
      "  Construct and transpile Pauli evolution:\n",
      "    Time duration    = 1.0\n",
      "    Basis gates      = cx, u3\n",
      "    Synthesis method = LieTrotter\n",
      "  Circuit summary:\n",
      "    Depth = 78\n",
      "    Gates = 57 U3, 42 CX, 4 MEASURE\n"
     ]
    }
   ],
   "source": [
    "from ternary_bonsai_mapper import HamiltonianTernaryBonsaiMapper\n",
    "from utility import Execution\n",
    "\n",
    "mapper = HamiltonianTernaryBonsaiMapper(hamiltonian)\n",
    "opttreesim = Execution(hamiltonian, mapper)\n",
    "opttreejob = aria_2.run(opttreesim.circuit, shots=1000)"
   ]
  },
  {
   "cell_type": "code",
   "execution_count": 39,
   "metadata": {},
   "outputs": [
    {
     "name": "stdout",
     "output_type": "stream",
     "text": [
      "(1.1102230246251565e-16+0j) 15\n",
      "(-0.4718960072811417+0j) 7\n",
      "(-1.25633907300325+0j) 23\n",
      "(-1.2445845498133268+0j) 13\n",
      "(-0.4718960072811416+0j) 34\n",
      "(-0.24521829183026578+0j) 77\n",
      "(-1.0636533500290954+0j) 37\n",
      "(-0.35332510410715445+0j) 10\n",
      "(-1.2563390730032498+0j) 78\n",
      "(-1.0636533500290954+0j) 39\n",
      "(-1.8369679912029837+0j) 488\n",
      "(-1.1606317377577642+0j) 85\n",
      "(-1.2445845498133268+0j) 28\n",
      "(-0.35332510410715456+0j) 15\n",
      "(-1.1606317377577644+0j) 31\n",
      "(0.21427823841947297+0j) 20\n"
     ]
    },
    {
     "data": {
      "text/plain": [
       "(-1.3326066364085893, 0.35421429872540877)"
      ]
     },
     "execution_count": 39,
     "metadata": {},
     "output_type": "execute_result"
    }
   ],
   "source": [
    "process(opttreejob.result().data()[\"counts\"], mapper, hamiltonian)"
   ]
  },
  {
   "cell_type": "markdown",
   "metadata": {},
   "source": [
    "# Plot"
   ]
  },
  {
   "cell_type": "code",
   "execution_count": 17,
   "metadata": {},
   "outputs": [
    {
     "name": "stderr",
     "output_type": "stream",
     "text": [
      "findfont: Generic family 'serif' not found because none of the following families were found: cm\n",
      "findfont: Generic family 'serif' not found because none of the following families were found: cm\n",
      "findfont: Generic family 'serif' not found because none of the following families were found: cm\n",
      "findfont: Generic family 'serif' not found because none of the following families were found: cm\n",
      "findfont: Generic family 'serif' not found because none of the following families were found: cm\n",
      "findfont: Generic family 'serif' not found because none of the following families were found: cm\n",
      "findfont: Generic family 'serif' not found because none of the following families were found: cm\n",
      "findfont: Generic family 'serif' not found because none of the following families were found: cm\n",
      "findfont: Generic family 'serif' not found because none of the following families were found: cm\n",
      "findfont: Generic family 'serif' not found because none of the following families were found: cm\n",
      "findfont: Generic family 'serif' not found because none of the following families were found: cm\n",
      "findfont: Generic family 'serif' not found because none of the following families were found: cm\n",
      "findfont: Generic family 'serif' not found because none of the following families were found: cm\n",
      "findfont: Generic family 'serif' not found because none of the following families were found: cm\n",
      "findfont: Generic family 'serif' not found because none of the following families were found: cm\n",
      "findfont: Generic family 'serif' not found because none of the following families were found: cm\n",
      "findfont: Generic family 'serif' not found because none of the following families were found: cm\n",
      "findfont: Generic family 'serif' not found because none of the following families were found: cm\n",
      "findfont: Generic family 'serif' not found because none of the following families were found: cm\n",
      "findfont: Generic family 'serif' not found because none of the following families were found: cm\n",
      "findfont: Generic family 'serif' not found because none of the following families were found: cm\n",
      "findfont: Generic family 'serif' not found because none of the following families were found: cm\n",
      "findfont: Generic family 'serif' not found because none of the following families were found: cm\n",
      "findfont: Generic family 'serif' not found because none of the following families were found: cm\n",
      "findfont: Generic family 'serif' not found because none of the following families were found: cm\n",
      "findfont: Generic family 'serif' not found because none of the following families were found: cm\n",
      "findfont: Generic family 'serif' not found because none of the following families were found: cm\n",
      "findfont: Generic family 'serif' not found because none of the following families were found: cm\n",
      "findfont: Generic family 'serif' not found because none of the following families were found: cm\n"
     ]
    },
    {
     "name": "stderr",
     "output_type": "stream",
     "text": [
      "findfont: Generic family 'serif' not found because none of the following families were found: cm\n",
      "findfont: Generic family 'serif' not found because none of the following families were found: cm\n",
      "findfont: Generic family 'serif' not found because none of the following families were found: cm\n",
      "findfont: Generic family 'serif' not found because none of the following families were found: cm\n",
      "findfont: Generic family 'serif' not found because none of the following families were found: cm\n",
      "findfont: Generic family 'serif' not found because none of the following families were found: cm\n",
      "findfont: Generic family 'serif' not found because none of the following families were found: cm\n",
      "findfont: Generic family 'serif' not found because none of the following families were found: cm\n",
      "findfont: Generic family 'serif' not found because none of the following families were found: cm\n",
      "findfont: Generic family 'serif' not found because none of the following families were found: cm\n",
      "findfont: Generic family 'serif' not found because none of the following families were found: cm\n",
      "findfont: Generic family 'serif' not found because none of the following families were found: cm\n"
     ]
    },
    {
     "data": {
      "image/png": "[encoded data removed]",
      "text/plain": [
       "<Figure size 640x480 with 1 Axes>"
      ]
     },
     "metadata": {},
     "output_type": "display_data"
    }
   ],
   "source": [
    "%matplotlib inline\n",
    "\n",
    "import matplotlib.pyplot as plt\n",
    "\n",
    "jw = (\"JW\", -1.3209011193140847, 0.3117595321527502)\n",
    "bk = (\"BK\", -1.2588759249221313, 0.43528868011844934)\n",
    "btt = (\"BTT\", -1.0589417409162922, 0.1347010014665952)\n",
    "fh = (\"FH\", -1.4167123485497235, 0.3222858718976118)\n",
    "opttree = (\"OptTree\", -1.3326066364085893, 0.35421429872540877)\n",
    "\n",
    "THEO = -1.857275030202381\n",
    "\n",
    "\n",
    "for n, (mapper, exp, var) in enumerate((jw, bk, btt, fh, opttree)):\n",
    "    plt.plot([n - 0.2, n + 0.2], [exp, exp], color=\"red\")\n",
    "\n",
    "plt.xlim(0 - 0.5, 4 + 0.5)\n",
    "plt.xticks([0, 1, 2, 3, 4], [\"JW\", \"BK\", \"BTT\", \"FH\", \"OptTree\"])\n",
    "\n",
    "plt.plot([-1, 5], [THEO, THEO])\n",
    "\n",
    "plt.show()"
   ]
  },
  {
   "cell_type": "code",
   "execution_count": null,
   "metadata": {},
   "outputs": [],
   "source": []
  }
 ],
 "metadata": {
  "kernelspec": {
   "display_name": "venv",
   "language": "python",
   "name": "python3"
  },
  "language_info": {
   "codemirror_mode": {
    "name": "ipython",
    "version": 3
   },
   "file_extension": ".py",
   "mimetype": "text/x-python",
   "name": "python",
   "nbconvert_exporter": "python",
   "pygments_lexer": "ipython3",
   "version": "3.10.12"
  }
 },
 "nbformat": 4,
 "nbformat_minor": 2
}
