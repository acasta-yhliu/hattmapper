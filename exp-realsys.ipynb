{
 "cells": [
  {
   "cell_type": "code",
   "execution_count": 2,
   "metadata": {},
   "outputs": [],
   "source": [
    "import warnings\n",
    "warnings.filterwarnings(\"ignore\", category=DeprecationWarning)\n",
    "warnings.filterwarnings(\"ignore\", category=UserWarning)\n",
    "\n",
    "from qiskit_braket_provider import BraketProvider\n",
    "from qiskit.providers import Backend\n",
    "\n",
    "provider = BraketProvider()\n",
    "aria_2 : Backend = provider.get_backend(\"Aria 2\")\n",
    "\n",
    "from qiskit_nature.second_q.operators import FermionicOp\n",
    "from qiskit_nature.second_q.drivers import PySCFDriver\n",
    "from qiskit_nature.units import DistanceUnit\n",
    "\n",
    "hamiltonian: FermionicOp = (\n",
    "    PySCFDriver(\n",
    "        atom=\"H 0 0 0; H 0 0 0.735\",\n",
    "        basis=\"sto3g\",\n",
    "        charge=0,\n",
    "        spin=0,\n",
    "        unit=DistanceUnit.ANGSTROM,\n",
    "    )\n",
    "    .run()\n",
    "    .hamiltonian.second_q_op()\n",
    ")\n",
    "\n",
    "from qiskit.quantum_info import Statevector\n",
    "from qiskit_nature.second_q.mappers.fermionic_mapper import FermionicMapper\n",
    "from statistics import mean, variance\n",
    "\n",
    "def process(data: dict[str, int], mapper: FermionicMapper, hamiltonian):\n",
    "    hamiltonian = mapper.map(hamiltonian)\n",
    "\n",
    "    energies = []\n",
    "\n",
    "    for state, n in data.items():\n",
    "        initial_state = Statevector.from_label(state[::-1])\n",
    "        exp_energy = initial_state.expectation_value(hamiltonian)  # type: ignore\n",
    "        print(exp_energy, n)\n",
    "\n",
    "        for _ in range(n):\n",
    "            energies.append(exp_energy.real)\n",
    "\n",
    "    return (\n",
    "        mean(energies),\n",
    "        variance(energies),\n",
    "    )"
   ]
  },
  {
   "cell_type": "code",
   "execution_count": 5,
   "metadata": {},
   "outputs": [
    {
     "name": "stdout",
     "output_type": "stream",
     "text": [
      "(3.3306690738754696e-16+0j) 212\n",
      "(-1.2445845498133266+0j) 294\n",
      "(-0.24521829183026567+0j) 140\n",
      "(-1.0636533500290954+0j) 105\n",
      "(-1.2445845498133266+0j) 765\n",
      "(0.2142782384194732+0j) 284\n",
      "(-1.0636533500290954+0j) 241\n",
      "(-1.8369679912029837+0j) 162\n",
      "(-0.4718960072811415+0j) 105\n",
      "(-0.3533251041071544+0j) 190\n",
      "(-0.4718960072811416+0j) 51\n",
      "(-1.2563390730032498+0j) 73\n",
      "(-1.2563390730032498+0j) 107\n",
      "(-1.1606317377577642+0j) 107\n",
      "(-0.35332510410715445+0j) 81\n",
      "(-1.1606317377577642+0j) 83\n"
     ]
    },
    {
     "data": {
      "text/plain": [
       "(-0.8577104655819423, 0.3339685176741624)"
      ]
     },
     "execution_count": 5,
     "metadata": {},
     "output_type": "execute_result"
    }
   ],
   "source": [
    "from qiskit_nature.second_q.mappers import JordanWignerMapper, BravyiKitaevMapper\n",
    "\n",
    "jw_data = {\n",
    "    \"0000\": 0.07066666666666667,\n",
    "    \"1000\": 0.098,\n",
    "    \"0100\": 0.04666666666666667,\n",
    "    \"1100\": 0.035,\n",
    "    \"0010\": 0.255,\n",
    "    \"1010\": 0.09466666666666666,\n",
    "    \"0110\": 0.08033333333333334,\n",
    "    \"1110\": 0.054,\n",
    "    \"0001\": 0.035,\n",
    "    \"1001\": 0.06333333333333334,\n",
    "    \"0101\": 0.017,\n",
    "    \"1101\": 0.024333333333333332,\n",
    "    \"0011\": 0.035666666666666666,\n",
    "    \"1011\": 0.035666666666666666,\n",
    "    \"0111\": 0.027,\n",
    "    \"1111\": 0.027666666666666666,\n",
    "}\n",
    "\n",
    "jw_data = {k: round(v * 3000) for k, v in jw_data.items()}\n",
    "\n",
    "process(jw_data, BravyiKitaevMapper(), hamiltonian)"
   ]
  },
  {
   "cell_type": "markdown",
   "metadata": {},
   "source": [
    "# Jordan-Wigner"
   ]
  },
  {
   "cell_type": "code",
   "execution_count": 2,
   "metadata": {},
   "outputs": [
    {
     "name": "stdout",
     "output_type": "stream",
     "text": [
      "Hamiltonian simulation:\n",
      "  Solve ground state:\n",
      "    Ground energy = -1.85727503020238\n",
      "  Construct and transpile Pauli evolution:\n",
      "    Time duration    = 1.0\n",
      "    Basis gates      = cx, u3\n",
      "    Synthesis method = LieTrotter\n",
      "  Circuit summary:\n",
      "    Depth = 89\n",
      "    Gates = 57 U3, 50 CX, 4 MEASURE\n"
     ]
    }
   ],
   "source": [
    "from qiskit_nature.second_q.mappers import JordanWignerMapper\n",
    "from utility import Execution\n",
    "\n",
    "jwsim = Execution(hamiltonian, JordanWignerMapper())\n",
    "jwjob = aria_2.run(jwsim.circuit, shots=3000)"
   ]
  },
  {
   "cell_type": "code",
   "execution_count": 1,
   "metadata": {},
   "outputs": [
    {
     "ename": "NameError",
     "evalue": "name 'process' is not defined",
     "output_type": "error",
     "traceback": [
      "\u001b[0;31m---------------------------------------------------------------------------\u001b[0m",
      "\u001b[0;31mNameError\u001b[0m                                 Traceback (most recent call last)",
      "Cell \u001b[0;32mIn[1], line 1\u001b[0m\n\u001b[0;32m----> 1\u001b[0m \u001b[43mprocess\u001b[49m(jwjob\u001b[38;5;241m.\u001b[39mresult()\u001b[38;5;241m.\u001b[39mdata()[\u001b[38;5;124m\"\u001b[39m\u001b[38;5;124mcounts\u001b[39m\u001b[38;5;124m\"\u001b[39m], JordanWignerMapper(), hamiltonian)\n",
      "\u001b[0;31mNameError\u001b[0m: name 'process' is not defined"
     ]
    }
   ],
   "source": [
    "process(jwjob.result().data()[\"counts\"], JordanWignerMapper(), hamiltonian)"
   ]
  },
  {
   "cell_type": "markdown",
   "metadata": {},
   "source": [
    "# Bravyi-Kitaev"
   ]
  },
  {
   "cell_type": "code",
   "execution_count": 3,
   "metadata": {},
   "outputs": [],
   "source": [
    "from qiskit_nature.second_q.mappers import BravyiKitaevMapper\n",
    "from utility import Execution\n",
    "\n",
    "bksim = Execution(hamiltonian, BravyiKitaevMapper())\n",
    "bkjob = aria_2.run(bksim.circuit, shots=3000)"
   ]
  }
 ],
 "metadata": {
  "kernelspec": {
   "display_name": "venv",
   "language": "python",
   "name": "python3"
  },
  "language_info": {
   "codemirror_mode": {
    "name": "ipython",
    "version": 3
   },
   "file_extension": ".py",
   "mimetype": "text/x-python",
   "name": "python",
   "nbconvert_exporter": "python",
   "pygments_lexer": "ipython3",
   "version": "3.10.12"
  }
 },
 "nbformat": 4,
 "nbformat_minor": 2
}
